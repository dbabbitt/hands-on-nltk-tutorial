{
 "cells": [
  {
   "cell_type": "markdown",
   "metadata": {},
   "source": [
    "# Language Identifier Using Word Bigrams"
   ]
  },
  {
   "cell_type": "markdown",
   "metadata": {},
   "source": [
    "Based on [Language Identifier by asif31iqbal](https://github.com/asif31iqbal/language-identifier)"
   ]
  },
  {
   "cell_type": "markdown",
   "metadata": {},
   "source": [
    "## 0. Importing libraries and creating helper tokenize method"
   ]
  },
  {
   "cell_type": "code",
   "execution_count": 1,
   "metadata": {},
   "outputs": [],
   "source": [
    "\n",
    "import pickle\n",
    "import string\n",
    "import os\n",
    "from nltk import ngrams, FreqDist, word_tokenize\n",
    "from numpy import arange\n",
    "import matplotlib.pyplot as plt\n",
    "%matplotlib inline"
   ]
  },
  {
   "cell_type": "code",
   "execution_count": 2,
   "metadata": {},
   "outputs": [],
   "source": [
    "\n",
    "def ultimate_tokenize(sentence):\n",
    "    \n",
    "    # Remove punctuation and digits\n",
    "    sentence = sentence.translate(str.maketrans('', '', string.punctuation + string.digits))\n",
    "    \n",
    "    return word_tokenize(sentence.lower())"
   ]
  },
  {
   "cell_type": "markdown",
   "metadata": {},
   "source": [
    "## 1. Understanding the process"
   ]
  },
  {
   "cell_type": "code",
   "execution_count": 3,
   "metadata": {},
   "outputs": [
    {
     "data": {
      "text/plain": [
       "['oh', 'then', 'i', 'see', 'queen', 'mab', 'hath', 'been', 'with', 'you']"
      ]
     },
     "execution_count": 3,
     "metadata": {},
     "output_type": "execute_result"
    }
   ],
   "source": [
    "\n",
    "simple_example_text = 'Oh, then, I see Queen Mab hath been with you.'\n",
    "\n",
    "simple_example_tokens_words = ultimate_tokenize(simple_example_text)\n",
    "simple_example_tokens_words"
   ]
  },
  {
   "cell_type": "code",
   "execution_count": 4,
   "metadata": {},
   "outputs": [
    {
     "data": {
      "text/plain": [
       "['o', 'h']"
      ]
     },
     "execution_count": 4,
     "metadata": {},
     "output_type": "execute_result"
    }
   ],
   "source": [
    "\n",
    "simple_example_tokens_chars = list(simple_example_tokens_words[0])\n",
    "simple_example_tokens_chars"
   ]
  },
  {
   "cell_type": "code",
   "execution_count": 5,
   "metadata": {},
   "outputs": [
    {
     "data": {
      "text/plain": [
       "[('oh',),\n",
       " ('then',),\n",
       " ('i',),\n",
       " ('see',),\n",
       " ('queen',),\n",
       " ('mab',),\n",
       " ('hath',),\n",
       " ('been',),\n",
       " ('with',),\n",
       " ('you',)]"
      ]
     },
     "execution_count": 5,
     "metadata": {},
     "output_type": "execute_result"
    }
   ],
   "source": [
    "\n",
    "simple_example_tokens_words_unigrams = list(ngrams(simple_example_tokens_words, 1))\n",
    "simple_example_tokens_words_unigrams"
   ]
  },
  {
   "cell_type": "code",
   "execution_count": 6,
   "metadata": {},
   "outputs": [
    {
     "data": {
      "text/plain": [
       "[('_', 'oh'),\n",
       " ('oh', 'then'),\n",
       " ('then', 'i'),\n",
       " ('i', 'see'),\n",
       " ('see', 'queen'),\n",
       " ('queen', 'mab'),\n",
       " ('mab', 'hath'),\n",
       " ('hath', 'been'),\n",
       " ('been', 'with'),\n",
       " ('with', 'you'),\n",
       " ('you', '_')]"
      ]
     },
     "execution_count": 6,
     "metadata": {},
     "output_type": "execute_result"
    }
   ],
   "source": [
    "\n",
    "simple_example_tokens_words_bigrams = list(ngrams(simple_example_tokens_words, 2, pad_left=True, pad_right=True, left_pad_symbol='_', right_pad_symbol='_'))\n",
    "simple_example_tokens_words_bigrams"
   ]
  },
  {
   "cell_type": "code",
   "execution_count": 7,
   "metadata": {},
   "outputs": [
    {
     "data": {
      "text/plain": [
       "FreqDist({('oh',): 1, ('then',): 1, ('i',): 1, ('see',): 1, ('queen',): 1, ('mab',): 1, ('hath',): 1, ('been',): 1, ('with',): 1, ('you',): 1})"
      ]
     },
     "execution_count": 7,
     "metadata": {},
     "output_type": "execute_result"
    }
   ],
   "source": [
    "\n",
    "fdist = FreqDist(simple_example_tokens_words_unigrams)\n",
    "fdist"
   ]
  },
  {
   "cell_type": "code",
   "execution_count": 8,
   "metadata": {},
   "outputs": [
    {
     "data": {
      "text/plain": [
       "{'oh': 1,\n",
       " 'then': 1,\n",
       " 'i': 1,\n",
       " 'see': 1,\n",
       " 'queen': 1,\n",
       " 'mab': 1,\n",
       " 'hath': 1,\n",
       " 'been': 1,\n",
       " 'with': 1,\n",
       " 'you': 1}"
      ]
     },
     "execution_count": 8,
     "metadata": {},
     "output_type": "execute_result"
    }
   ],
   "source": [
    "\n",
    "unigram_dict = dict()\n",
    "for k, v in fdist.items(): unigram_dict[' '.join(k)] = v\n",
    "unigram_dict"
   ]
  },
  {
   "cell_type": "code",
   "execution_count": 9,
   "metadata": {},
   "outputs": [
    {
     "data": {
      "text/plain": [
       "\"approval of the minutes of the previous sitting the minutes of yesterday 's sitting have been distri\""
      ]
     },
     "execution_count": 9,
     "metadata": {},
     "output_type": "execute_result"
    }
   ],
   "source": [
    "\n",
    "file = 'ngram_langid_files/LangId.train.English.txt'\n",
    "with open(file, encoding='utf8') as f: content = f.read().lower()\n",
    "content.replace('\\n', '')[:100]"
   ]
  },
  {
   "cell_type": "code",
   "execution_count": 16,
   "metadata": {},
   "outputs": [
    {
     "data": {
      "text/plain": [
       "{'certainty': 1, 'refuge': 1, 'environment': 19, 'calling': 4, 'told': 8}"
      ]
     },
     "execution_count": 16,
     "metadata": {},
     "output_type": "execute_result"
    }
   ],
   "source": [
    "\n",
    "with open('ngram_langid_files/English.unigram.pickle', 'rb') as handle: unigram_english_dict = pickle.load(handle)\n",
    "\n",
    "# Display a sub-dictionary with a number of random keys and their values\n",
    "import random\n",
    "def get_random_subdictionary(super_dict):\n",
    "    keys = list(super_dict.keys())\n",
    "    random_keys = random.sample(keys, 5)\n",
    "    sub_dict = {}\n",
    "    for key in random_keys: sub_dict[key] = super_dict[key]\n",
    "        \n",
    "    return sub_dict\n",
    "get_random_subdictionary(unigram_english_dict)"
   ]
  },
  {
   "cell_type": "code",
   "execution_count": 17,
   "metadata": {},
   "outputs": [
    {
     "data": {
      "text/plain": [
       "{'image of': 1,\n",
       " 'on savings': 1,\n",
       " 'in value': 1,\n",
       " 'achievement there': 1,\n",
       " 'are directed': 1}"
      ]
     },
     "execution_count": 17,
     "metadata": {},
     "output_type": "execute_result"
    }
   ],
   "source": [
    "\n",
    "with open('ngram_langid_files/English.bigram.pickle', 'rb') as handle: bigram_english_dict = pickle.load(handle)\n",
    "get_random_subdictionary(bigram_english_dict)"
   ]
  },
  {
   "cell_type": "code",
   "execution_count": 18,
   "metadata": {},
   "outputs": [
    {
     "data": {
      "text/plain": [
       "906"
      ]
     },
     "execution_count": 18,
     "metadata": {},
     "output_type": "execute_result"
    }
   ],
   "source": [
    "\n",
    "bigram_english_dict.get('of the')"
   ]
  },
  {
   "cell_type": "code",
   "execution_count": 19,
   "metadata": {},
   "outputs": [
    {
     "data": {
      "text/plain": [
       "[('the', 5699),\n",
       " ('of', 2769),\n",
       " ('to', 2490),\n",
       " ('and', 2040),\n",
       " ('in', 1668),\n",
       " ('a', 1343),\n",
       " ('is', 1303),\n",
       " ('that', 1205),\n",
       " ('this', 887),\n",
       " ('on', 865)]"
      ]
     },
     "execution_count": 19,
     "metadata": {},
     "output_type": "execute_result"
    }
   ],
   "source": [
    "\n",
    "import operator\n",
    "\n",
    "english_unigram_freqs = sorted(unigram_english_dict.items(), key=operator.itemgetter(1), reverse=True)\n",
    "english_unigram_freqs[:10]"
   ]
  },
  {
   "cell_type": "code",
   "execution_count": 20,
   "metadata": {},
   "outputs": [
    {
     "data": {
      "image/png": "[encoded data removed]",
      "text/plain": [
       "<Figure size 1000x700 with 1 Axes>"
      ]
     },
     "metadata": {},
     "output_type": "display_data"
    }
   ],
   "source": [
    "\n",
    "labels, values = zip(*english_unigram_freqs[:10])\n",
    "indexes = arange(len(labels))\n",
    "width = 0.8 # width = 1 would give bars that overlap because they are too close.\n",
    "\n",
    "fig = plt.figure(figsize=(10,7))                                                               \n",
    "ax = fig.gca() # Get current axis\n",
    "rects = ax.bar(indexes, values, width)\n",
    "\n",
    "# Add title and axis labels\n",
    "fig.suptitle('Top 10 English word unigrams', fontsize=20)\n",
    "plt.xlabel('Word unigram', fontsize=14)\n",
    "plt.ylabel('Frequency', fontsize=14)\n",
    "\n",
    "# Display value of each bar on bar\n",
    "for rect in rects:\n",
    "        height = rect.get_height()\n",
    "        ax.text(rect.get_x() + rect.get_width() / 2., 50 + height, '%d' % int(height), ha='center', va='bottom') # Can also add color and fontweight arguments.\n",
    "\n",
    "# Remove the default x-axis tick numbers and use tick numbers of your own choosing:\n",
    "ax.set_xticks(indexes)\n",
    "# Replace the tick numbers with strings:\n",
    "ax.set_xticklabels(labels)\n",
    "\n",
    "plt.show()\n",
    "# plt.savefig('top10EnglishWordUnigrams.png')"
   ]
  },
  {
   "cell_type": "markdown",
   "metadata": {},
   "source": [
    "## 1. Generating unigram and bigram frequencies for English, French and Italian from training files"
   ]
  },
  {
   "cell_type": "code",
   "execution_count": 21,
   "metadata": {},
   "outputs": [],
   "source": [
    "def get_ngram_count_dict(tokens, n):\n",
    "    if n == 1:\n",
    "        n_grams = ngrams(tokens, n)\n",
    "    else:\n",
    "        n_grams = ngrams(tokens, n, pad_left=True, pad_right=True, left_pad_symbol='_', right_pad_symbol='_') # Fun fact: If I remove padding here and later when testing, and also remove the '_' from the unigram dicts, the accuracy rises slightly. However, it's not statistically significant due to the small size of the data.\n",
    "    fdist = FreqDist(n_grams)\n",
    "    ngram_dict = dict()\n",
    "    for k,v in fdist.items():\n",
    "        ngram_dict[' '.join(k)] = v\n",
    "    return ngram_dict\n",
    "\n",
    "# Calls get_ngram_count_dict to get a unigram and bigram dict from file.\n",
    "def get_unigram_bigram_dicts(file):\n",
    "    with open(file, encoding='utf8') as f:\n",
    "        content = f.read()\n",
    "    tokens = ultimate_tokenize(content)\n",
    "    unigram_dict = get_ngram_count_dict(tokens, 1)     \n",
    "    bigram_dict = get_ngram_count_dict(tokens, 2)     \n",
    "    return unigram_dict, bigram_dict\n",
    "\n",
    "# Dumps unigram and bigram dictionary of training data of given language to .pickle files.\n",
    "def dump_pickle(language):\n",
    "    training_file = 'ngram_langid_files/LangId.train.' + language + '.txt'\n",
    "    unigram_dict, bigram_dict = get_unigram_bigram_dicts(training_file)\n",
    "    with open('ngram_langid_files/' + language + '.unigram.pickle', 'wb') as handle:\n",
    "        pickle.dump(unigram_dict, handle, protocol=pickle.HIGHEST_PROTOCOL) # HIGHEST_PROTOCOL instructs pickle to use the highest protocol version available.\n",
    "    with open('ngram_langid_files/' + language + '.bigram.pickle', 'wb') as handle:\n",
    "        pickle.dump(bigram_dict, handle, protocol=pickle.HIGHEST_PROTOCOL)\n",
    "        \n",
    "dump_pickle('English')\n",
    "dump_pickle('French')\n",
    "dump_pickle('Italian')"
   ]
  },
  {
   "cell_type": "markdown",
   "metadata": {},
   "source": [
    "Later, it will also be required to know how many sentences there are in the training data for each language. This is because of the method used to calculate probabilities (incorporating the probability of the bigram among other bigrams starting with the same word) and the fact we use padding for our bigrams. \n",
    "\n",
    "In our training data each line is a sentence, which is very convenient for calculating the number of sentences.\n",
    "\n",
    "We go ahead and get the number of sentences (for more efficiency, the following code could be added to `get_unigram_bigram_dicts`):"
   ]
  },
  {
   "cell_type": "code",
   "execution_count": 22,
   "metadata": {},
   "outputs": [
    {
     "name": "stdout",
     "output_type": "stream",
     "text": [
      "NUMBER OF SENTENCES IN TRAINING DATA\n",
      "English: 2980\n",
      "French: 2980\n",
      "Italian: 2821\n"
     ]
    }
   ],
   "source": [
    "with open('ngram_langid_files/LangId.train.English.txt', encoding='utf8') as f:\n",
    "    for i, l in enumerate(f):\n",
    "        pass\n",
    "number_of_sents_en = i + 1\n",
    "with open('ngram_langid_files/LangId.train.French.txt', encoding='utf8') as f:\n",
    "    for i, l in enumerate(f):\n",
    "        pass\n",
    "number_of_sents_fr = i + 1\n",
    "with open('ngram_langid_files/LangId.train.Italian.txt', encoding='utf8') as f:\n",
    "    for i, l in enumerate(f):\n",
    "        pass\n",
    "number_of_sents_it = i + 1\n",
    "\n",
    "print('NUMBER OF SENTENCES IN TRAINING DATA')\n",
    "print('English:', number_of_sents_en)\n",
    "print('French:', number_of_sents_fr)\n",
    "print('Italian:', number_of_sents_it)"
   ]
  },
  {
   "cell_type": "markdown",
   "metadata": {},
   "source": [
    "## 2. Identifying language for each line of the test file using bigram probabilities"
   ]
  },
  {
   "cell_type": "code",
   "execution_count": 23,
   "metadata": {},
   "outputs": [
    {
     "data": {
      "text/plain": [
       "22705"
      ]
     },
     "execution_count": 23,
     "metadata": {},
     "output_type": "execute_result"
    }
   ],
   "source": [
    "with open('ngram_langid_files/English.unigram.pickle', 'rb') as handle:\n",
    "    unigram_english_dict = pickle.load(handle)\n",
    "    \n",
    "with open('ngram_langid_files/English.bigram.pickle', 'rb') as handle:\n",
    "    bigram_english_dict = pickle.load(handle)\n",
    "    \n",
    "with open('ngram_langid_files/French.unigram.pickle', 'rb') as handle:\n",
    "    unigram_french_dict = pickle.load(handle)\n",
    "    \n",
    "with open('ngram_langid_files/French.bigram.pickle', 'rb') as handle:\n",
    "    bigram_french_dict = pickle.load(handle)\n",
    "    \n",
    "with open('ngram_langid_files/Italian.unigram.pickle', 'rb') as handle:\n",
    "    unigram_italian_dict = pickle.load(handle)\n",
    "    \n",
    "with open('ngram_langid_files/Italian.bigram.pickle', 'rb') as handle:\n",
    "    bigram_italian_dict = pickle.load(handle)\n",
    "    \n",
    "vocabulary_size = len(unigram_english_dict) + len(unigram_french_dict) + len(unigram_italian_dict)\n",
    "vocabulary_size"
   ]
  },
  {
   "cell_type": "code",
   "execution_count": 24,
   "metadata": {},
   "outputs": [
    {
     "name": "stdout",
     "output_type": "stream",
     "text": [
      "Accuracy: 98.00%\n"
     ]
    }
   ],
   "source": [
    "# Get probability of given bigram belonging to the language which bigram_dict is in\n",
    "def get_bigram_probability(bigram, first_word, bigram_dict, first_word_dict): # first_word is the first word of the word bigram.\n",
    "    bigram_count = bigram_dict.get(bigram)\n",
    "    if bigram_count is None:\n",
    "        bigram_count = 0\n",
    "    \n",
    "    first_word_count = first_word_dict.get(first_word)\n",
    "    if first_word_count is None:\n",
    "        first_word_count = 0\n",
    "    \n",
    "    return (bigram_count + 1) / (first_word_count + vocabulary_size) # To get the logic of this formula, note how the proability is used in the function below. Without the + 1 in the Nr, if you find a bigram which is not in our known bigrams for a language, the probability of it being in that language would become 0. So we would like to assign a small probability of 1 / vocabulary_size in that case. Also note the arbitrariness of this 'probability'. We're saying \"Given a bigram and a language, what is the probability that the bigram is of that language?\" This is arbitrary because to get a meaningful probability we need to know which are the other languages considered and what their bigram frequencies are. That would be another way to do it, but arguable a worse one because it wouldn't be able to give a confidence score for a particular language. The formula just uses common sense to get to a number which works for the purposes. In the denominator, we have both first_word_count and vocabulary_size. Why? We have vocabulary_size for all langs in the denom because the larger this is, the less significant it is that for this particular language the bigram appears so many times. Could we have used a vocab_size of bigrams instead of unigrams? Sure, and the 'probabilities' would end up being much smaller numbers. What about first_word_count? This gives us a way to compare this bigram against other bigrams in this language starting with the same word. In general though, for a given bigram, it's more important to consider how many times it exists than to consider whether it is the usual bigram given a certain first word. The formula achieves that. Take the bigram 'le monseiur' and the English language. Let's say the bigram appears once and 'le' also appears once, while in French 'le monseiur' appears 100 times and le appears 100,000 times. Probability for English = (1 + 1) / (1 + 20,000) = 0.000099995. Probability for French = (100 + 1) / (100,000 + 20,000) = 0.00084166666. Note how the probability for French is still low because 100/100,000 is quite low and maybe it's not French after all if in French le is usually followed by other words. However, it's still significantly higher than the probability for English where both 'le' and 'le monseiur' only appear once.\n",
    "\n",
    "# Get probability that a given bigram list is of a language (specified by its bigram_dict)\n",
    "def get_language_probability(bigram_list, first_words, bigram_dict, first_word_dict):\n",
    "    result = 1.0\n",
    "    index = 0\n",
    "    for bigram in bigram_list:\n",
    "        result *= get_bigram_probability(bigram, first_words[index], bigram_dict, first_word_dict)\n",
    "        index += 1\n",
    "    return result\n",
    "\n",
    "# Load correct solutions\n",
    "solution_dict = dict()\n",
    "with open('ngram_langid_files/LangId.sol.txt') as f:\n",
    "    for line in f:\n",
    "       (key, val) = line.split()\n",
    "       solution_dict[int(key)] = val\n",
    "        \n",
    "line_no = 1\n",
    "result_dict = dict()\n",
    "correct = 0\n",
    "incorrect_line_numbers = []\n",
    "\n",
    "# This needs to be done because I'm using padding for bigrams so the unigram dicts in their raw forms can't be used in get_bigram_probability():\n",
    "unigram_english_dict['_'] = number_of_sents_en\n",
    "unigram_french_dict['_'] = number_of_sents_fr\n",
    "unigram_italian_dict['_'] = number_of_sents_it\n",
    "\n",
    "with open('ngram_langid_files/LangId.test.txt', encoding='utf8') as f:\n",
    "    for line in f:\n",
    "        tokens = ultimate_tokenize(line)\n",
    "        bigrams = ngrams(tokens, 2, pad_left=True, pad_right=True, left_pad_symbol='_', right_pad_symbol='_')\n",
    "        bigram_list = [] # bigram_list will be exactly like bigrams but instead of [('_', 'this'), ...] it will be ['_ this', ...]. It is required because this is how bigrams are represented in the dictionary.\n",
    "        first_words = [] # The first words of each bigram. This is the similar to making a unigram_list. We use it because we don't want something in the form [(this,), ...]. Also because we want this to include '_'. We want it to include '_' because we're not using the unigrams for classification but as part of a formula to judge bigram frequency based on the starting word.\n",
    "        for b in bigrams:\n",
    "            bigram_list.append(' '.join(b))\n",
    "            first_words.append(b[0])\n",
    "        \n",
    "        english_prob = get_language_probability(bigram_list, first_words, bigram_english_dict, unigram_english_dict)\n",
    "        french_prob = get_language_probability(bigram_list, first_words, bigram_french_dict, unigram_french_dict)\n",
    "        italian_prob = get_language_probability(bigram_list, first_words, bigram_italian_dict, unigram_italian_dict)\n",
    "        \n",
    "        max_prob = max(english_prob, french_prob, italian_prob)\n",
    "        if max_prob == english_prob:\n",
    "            result_dict[line_no] = 'English'\n",
    "        elif max_prob == french_prob:\n",
    "            result_dict[line_no] = 'French'\n",
    "        else:\n",
    "            result_dict[line_no] = 'Italian'\n",
    "        \n",
    "        if solution_dict[line_no] == result_dict[line_no]:\n",
    "            correct += 1\n",
    "        else:\n",
    "            incorrect_line_numbers.append(line_no)\n",
    "            \n",
    "        line_no += 1\n",
    "\n",
    "# Storing results from result_dict to file:\n",
    "with open('ngram_langid_files/LangId.result.txt', 'w') as f:\n",
    "    for key, val in result_dict.items():\n",
    "        f.write(' '.join([str(key), val]) + '\\n')\n",
    "        \n",
    "print('Accuracy: {:2.2f}%'.format(correct * 100 / len(solution_dict)))"
   ]
  },
  {
   "cell_type": "code",
   "execution_count": 25,
   "metadata": {},
   "outputs": [
    {
     "name": "stdout",
     "output_type": "stream",
     "text": [
      "Line numbers for incorrectly classified languages: [24, 87, 187, 191, 247, 279]\n"
     ]
    }
   ],
   "source": [
    "print('Line numbers for incorrectly classified languages: {}'.format(str(incorrect_line_numbers)))"
   ]
  },
  {
   "cell_type": "markdown",
   "metadata": {},
   "source": [
    "## 3. Testing with our own sentence"
   ]
  },
  {
   "cell_type": "code",
   "execution_count": 26,
   "metadata": {},
   "outputs": [
    {
     "name": "stdout",
     "output_type": "stream",
     "text": [
      "Sentence bigrams: ['_ this', 'this is', 'is a', 'a sentence', 'sentence _']\n",
      "Sentence bigrams first words: ['_', 'this', 'is', 'a', 'sentence']\n"
     ]
    }
   ],
   "source": [
    "sent = \"This is a sentence.\"\n",
    "sent_tokens = ultimate_tokenize(sent)\n",
    "sent_bigrams_pre = ngrams(sent_tokens, 2, pad_left=True, pad_right=True, left_pad_symbol='_', right_pad_symbol='_')\n",
    "sent_bigrams = []\n",
    "sent_bigrams_first_words = []\n",
    "for b in sent_bigrams_pre:\n",
    "    sent_bigrams.append(' '.join(b))\n",
    "    sent_bigrams_first_words.append(b[0])\n",
    "print('Sentence bigrams:', sent_bigrams)\n",
    "print('Sentence bigrams first words:', sent_bigrams_first_words)"
   ]
  },
  {
   "cell_type": "code",
   "execution_count": 27,
   "metadata": {},
   "outputs": [
    {
     "name": "stdout",
     "output_type": "stream",
     "text": [
      "RAW 'PROBABILITIES'\n",
      "English: 1.6907852103961136e-18\n",
      "French: 1.4294173998895933e-22\n",
      "Italian: 1.4086603160283195e-22\n"
     ]
    }
   ],
   "source": [
    "sent_english_prob = get_language_probability(sent_bigrams, sent_bigrams_first_words, bigram_english_dict, unigram_english_dict)\n",
    "sent_french_prob = get_language_probability(sent_bigrams, sent_bigrams_first_words, bigram_french_dict, unigram_french_dict)\n",
    "sent_italian_prob = get_language_probability(sent_bigrams, sent_bigrams_first_words, bigram_italian_dict, unigram_italian_dict)\n",
    "print(\"RAW 'PROBABILITIES'\")\n",
    "print('English:', sent_english_prob)\n",
    "print('French:', sent_french_prob)\n",
    "print('Italian:', sent_italian_prob)\n",
    "# As we can see, these 'probabilities' are arbitrary. We can try to convert them to percentages since we are classifying only among these 3 languages:"
   ]
  },
  {
   "cell_type": "code",
   "execution_count": 28,
   "metadata": {},
   "outputs": [
    {
     "name": "stdout",
     "output_type": "stream",
     "text": [
      "RELATIVE PROBABILITIES\n",
      "English: 99.98%\n",
      "French: 0.01%\n",
      "Italian: 0.01%\n"
     ]
    }
   ],
   "source": [
    "def get_normalized_probabilities(list_of_probabilities):\n",
    "    sum_of_probabilities = sum(list_of_probabilities)\n",
    "    result = []\n",
    "    for probability in list_of_probabilities:\n",
    "        result.append(probability / sum_of_probabilities)\n",
    "    return result\n",
    "\n",
    "probabilities = [sent_english_prob, sent_french_prob, sent_italian_prob]\n",
    "normalized_probabilities = get_normalized_probabilities(probabilities)\n",
    "\n",
    "print('RELATIVE PROBABILITIES')\n",
    "print('English: ', round(normalized_probabilities[0] * 100, 2), '%', sep='') # I use sep because I don't want a space before the % sign.\n",
    "print('French: ', round(normalized_probabilities[1] * 100, 2), '%', sep='')\n",
    "print('Italian: ', round(normalized_probabilities[2] * 100, 2), '%', sep='')"
   ]
  },
  {
   "cell_type": "markdown",
   "metadata": {},
   "source": [
    "**PS:** For a state-of-the-art Greek dialect classifier using n-grams, take a look at [Greek Dialect Classifier](https://github.com/hb20007/greek-dialect-classifier)."
   ]
  },
  {
   "cell_type": "code",
   "execution_count": null,
   "metadata": {},
   "outputs": [],
   "source": []
  }
 ],
 "metadata": {
  "kernelspec": {
   "display_name": "Python 3 (ipykernel)",
   "language": "python",
   "name": "python3"
  },
  "language_info": {
   "codemirror_mode": {
    "name": "ipython",
    "version": 3
   },
   "file_extension": ".py",
   "mimetype": "text/x-python",
   "name": "python",
   "nbconvert_exporter": "python",
   "pygments_lexer": "ipython3",
   "version": "3.10.8"
  }
 },
 "nbformat": 4,
 "nbformat_minor": 4
}
